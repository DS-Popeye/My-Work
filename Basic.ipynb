{
 "cells": [
  {
   "cell_type": "code",
   "execution_count": 1,
   "metadata": {},
   "outputs": [],
   "source": [
    "import numpy as np\n",
    "import statistics as sts"
   ]
  },
  {
   "cell_type": "code",
   "execution_count": 21,
   "metadata": {},
   "outputs": [],
   "source": [
    "import pandas as pd"
   ]
  },
  {
   "cell_type": "code",
   "execution_count": 2,
   "metadata": {},
   "outputs": [],
   "source": [
    "n = np.random.randn(30)"
   ]
  },
  {
   "cell_type": "code",
   "execution_count": 3,
   "metadata": {},
   "outputs": [
    {
     "data": {
      "text/plain": [
       "(30,)"
      ]
     },
     "execution_count": 3,
     "metadata": {},
     "output_type": "execute_result"
    }
   ],
   "source": [
    "n.shape"
   ]
  },
  {
   "cell_type": "code",
   "execution_count": 4,
   "metadata": {},
   "outputs": [
    {
     "data": {
      "text/plain": [
       "1"
      ]
     },
     "execution_count": 4,
     "metadata": {},
     "output_type": "execute_result"
    }
   ],
   "source": [
    "n.ndim"
   ]
  },
  {
   "cell_type": "code",
   "execution_count": 5,
   "metadata": {},
   "outputs": [
    {
     "data": {
      "text/plain": [
       "array([-5.79609340e-01, -1.46496584e+00,  5.01039543e-01, -6.13063507e-01,\n",
       "       -3.72737967e-01, -4.80878180e-01, -6.18802589e-01, -1.02529393e+00,\n",
       "       -5.20387682e-01,  7.98402313e-01,  5.53865744e-01, -4.69950864e-01,\n",
       "        5.06070250e-01,  1.98245085e-01, -3.92007423e-01, -2.10273014e+00,\n",
       "       -1.15635671e+00, -2.89387696e-01,  8.12003138e-01,  1.08547074e+00,\n",
       "        2.17109924e-01,  3.23090353e-01,  1.59332005e+00, -4.13797592e-03,\n",
       "       -9.60750322e-01,  1.14879261e-03, -1.22723615e+00, -1.34310220e+00,\n",
       "        4.51167116e-01, -1.57723901e-01])"
      ]
     },
     "execution_count": 5,
     "metadata": {},
     "output_type": "execute_result"
    }
   ],
   "source": [
    "n"
   ]
  },
  {
   "cell_type": "code",
   "execution_count": 6,
   "metadata": {},
   "outputs": [
    {
     "data": {
      "text/plain": [
       "1.5933200497091757"
      ]
     },
     "execution_count": 6,
     "metadata": {},
     "output_type": "execute_result"
    }
   ],
   "source": [
    "np.max(n)"
   ]
  },
  {
   "cell_type": "code",
   "execution_count": 7,
   "metadata": {},
   "outputs": [
    {
     "data": {
      "text/plain": [
       "-2.10273014020676"
      ]
     },
     "execution_count": 7,
     "metadata": {},
     "output_type": "execute_result"
    }
   ],
   "source": [
    "np.min(n)"
   ]
  },
  {
   "cell_type": "code",
   "execution_count": 8,
   "metadata": {},
   "outputs": [
    {
     "data": {
      "text/plain": [
       "-0.33106283142165344"
      ]
     },
     "execution_count": 8,
     "metadata": {},
     "output_type": "execute_result"
    }
   ],
   "source": [
    "np.median(n)"
   ]
  },
  {
   "cell_type": "code",
   "execution_count": 9,
   "metadata": {},
   "outputs": [
    {
     "data": {
      "text/plain": [
       "-0.22460631195513106"
      ]
     },
     "execution_count": 9,
     "metadata": {},
     "output_type": "execute_result"
    }
   ],
   "source": [
    "np.mean(n)"
   ]
  },
  {
   "cell_type": "code",
   "execution_count": 10,
   "metadata": {},
   "outputs": [],
   "source": [
    "n2 = np.random.randint(5,20,11)"
   ]
  },
  {
   "cell_type": "code",
   "execution_count": 11,
   "metadata": {},
   "outputs": [
    {
     "data": {
      "text/plain": [
       "array([17,  6, 14, 16, 17, 10,  7, 14,  6,  5, 15])"
      ]
     },
     "execution_count": 11,
     "metadata": {},
     "output_type": "execute_result"
    }
   ],
   "source": [
    "n2"
   ]
  },
  {
   "cell_type": "code",
   "execution_count": 12,
   "metadata": {},
   "outputs": [
    {
     "data": {
      "text/plain": [
       "11.545454545454545"
      ]
     },
     "execution_count": 12,
     "metadata": {},
     "output_type": "execute_result"
    }
   ],
   "source": [
    "np.mean(n2)"
   ]
  },
  {
   "cell_type": "code",
   "execution_count": 13,
   "metadata": {},
   "outputs": [
    {
     "data": {
      "text/plain": [
       "14.0"
      ]
     },
     "execution_count": 13,
     "metadata": {},
     "output_type": "execute_result"
    }
   ],
   "source": [
    "np.median(n2)"
   ]
  },
  {
   "cell_type": "code",
   "execution_count": 14,
   "metadata": {},
   "outputs": [
    {
     "data": {
      "text/plain": [
       "17"
      ]
     },
     "execution_count": 14,
     "metadata": {},
     "output_type": "execute_result"
    }
   ],
   "source": [
    "np.max(n2)"
   ]
  },
  {
   "cell_type": "code",
   "execution_count": 15,
   "metadata": {},
   "outputs": [
    {
     "data": {
      "text/plain": [
       "5"
      ]
     },
     "execution_count": 15,
     "metadata": {},
     "output_type": "execute_result"
    }
   ],
   "source": [
    "np.min(n2)"
   ]
  },
  {
   "cell_type": "code",
   "execution_count": 16,
   "metadata": {},
   "outputs": [
    {
     "data": {
      "text/plain": [
       "14"
      ]
     },
     "execution_count": 16,
     "metadata": {},
     "output_type": "execute_result"
    }
   ],
   "source": [
    "sts.median_high(n2)"
   ]
  },
  {
   "cell_type": "code",
   "execution_count": 17,
   "metadata": {},
   "outputs": [
    {
     "data": {
      "text/plain": [
       "14.0"
      ]
     },
     "execution_count": 17,
     "metadata": {},
     "output_type": "execute_result"
    }
   ],
   "source": [
    "np.median(n2)"
   ]
  },
  {
   "cell_type": "code",
   "execution_count": 18,
   "metadata": {},
   "outputs": [
    {
     "data": {
      "text/plain": [
       "array([17,  6, 14, 16, 17, 10,  7, 14,  6,  5, 15])"
      ]
     },
     "execution_count": 18,
     "metadata": {},
     "output_type": "execute_result"
    }
   ],
   "source": [
    "n2"
   ]
  },
  {
   "cell_type": "code",
   "execution_count": 19,
   "metadata": {},
   "outputs": [],
   "source": [
    "result = np.max(n2) - np.min(n2)"
   ]
  },
  {
   "cell_type": "code",
   "execution_count": 20,
   "metadata": {},
   "outputs": [
    {
     "data": {
      "text/plain": [
       "12"
      ]
     },
     "execution_count": 20,
     "metadata": {},
     "output_type": "execute_result"
    }
   ],
   "source": [
    "result"
   ]
  },
  {
   "cell_type": "code",
   "execution_count": 22,
   "metadata": {},
   "outputs": [],
   "source": [
    "df = n2"
   ]
  },
  {
   "cell_type": "code",
   "execution_count": 23,
   "metadata": {},
   "outputs": [
    {
     "data": {
      "text/plain": [
       "array([17,  6, 14, 16, 17, 10,  7, 14,  6,  5, 15])"
      ]
     },
     "execution_count": 23,
     "metadata": {},
     "output_type": "execute_result"
    }
   ],
   "source": [
    "n2"
   ]
  },
  {
   "cell_type": "code",
   "execution_count": 24,
   "metadata": {},
   "outputs": [],
   "source": [
    "df.sort()"
   ]
  },
  {
   "cell_type": "code",
   "execution_count": 25,
   "metadata": {},
   "outputs": [
    {
     "data": {
      "text/plain": [
       "array([ 5,  6,  6,  7, 10, 14, 14, 15, 16, 17, 17])"
      ]
     },
     "execution_count": 25,
     "metadata": {},
     "output_type": "execute_result"
    }
   ],
   "source": [
    "df"
   ]
  },
  {
   "cell_type": "code",
   "execution_count": 26,
   "metadata": {},
   "outputs": [
    {
     "data": {
      "text/plain": [
       "array([ 5,  6,  6,  7, 10, 14, 14, 15, 16, 17, 17])"
      ]
     },
     "execution_count": 26,
     "metadata": {},
     "output_type": "execute_result"
    }
   ],
   "source": [
    "n2"
   ]
  },
  {
   "cell_type": "code",
   "execution_count": 27,
   "metadata": {},
   "outputs": [
    {
     "data": {
      "text/plain": [
       "array([17, 17, 16, 15, 14, 14, 10,  7,  6,  6,  5])"
      ]
     },
     "execution_count": 27,
     "metadata": {},
     "output_type": "execute_result"
    }
   ],
   "source": [
    "np.flipud(df)"
   ]
  },
  {
   "cell_type": "code",
   "execution_count": 28,
   "metadata": {},
   "outputs": [
    {
     "data": {
      "text/plain": [
       "6.5"
      ]
     },
     "execution_count": 28,
     "metadata": {},
     "output_type": "execute_result"
    }
   ],
   "source": [
    "q1=np.percentile(n2,25)\n",
    "q1"
   ]
  },
  {
   "cell_type": "code",
   "execution_count": 29,
   "metadata": {},
   "outputs": [
    {
     "data": {
      "text/plain": [
       "14.0"
      ]
     },
     "execution_count": 29,
     "metadata": {},
     "output_type": "execute_result"
    }
   ],
   "source": [
    "q2 = np.percentile(n2,50)\n",
    "q2"
   ]
  },
  {
   "cell_type": "code",
   "execution_count": 30,
   "metadata": {},
   "outputs": [
    {
     "data": {
      "text/plain": [
       "15.5"
      ]
     },
     "execution_count": 30,
     "metadata": {},
     "output_type": "execute_result"
    }
   ],
   "source": [
    "q3 = np.percentile(n2,75)\n",
    "q3"
   ]
  },
  {
   "cell_type": "code",
   "execution_count": 31,
   "metadata": {},
   "outputs": [
    {
     "data": {
      "text/plain": [
       "14"
      ]
     },
     "execution_count": 31,
     "metadata": {},
     "output_type": "execute_result"
    }
   ],
   "source": [
    "p1 = sts.median_high(n2)\n",
    "p1"
   ]
  },
  {
   "cell_type": "code",
   "execution_count": 32,
   "metadata": {},
   "outputs": [
    {
     "data": {
      "text/plain": [
       "9.0"
      ]
     },
     "execution_count": 32,
     "metadata": {},
     "output_type": "execute_result"
    }
   ],
   "source": [
    "p2 = q3-q1\n",
    "p2"
   ]
  },
  {
   "cell_type": "code",
   "execution_count": 33,
   "metadata": {},
   "outputs": [
    {
     "data": {
      "text/plain": [
       "array([-5.79609340e-01, -1.46496584e+00,  5.01039543e-01, -6.13063507e-01,\n",
       "       -3.72737967e-01, -4.80878180e-01, -6.18802589e-01, -1.02529393e+00,\n",
       "       -5.20387682e-01,  7.98402313e-01,  5.53865744e-01, -4.69950864e-01,\n",
       "        5.06070250e-01,  1.98245085e-01, -3.92007423e-01, -2.10273014e+00,\n",
       "       -1.15635671e+00, -2.89387696e-01,  8.12003138e-01,  1.08547074e+00,\n",
       "        2.17109924e-01,  3.23090353e-01,  1.59332005e+00, -4.13797592e-03,\n",
       "       -9.60750322e-01,  1.14879261e-03, -1.22723615e+00, -1.34310220e+00,\n",
       "        4.51167116e-01, -1.57723901e-01])"
      ]
     },
     "execution_count": 33,
     "metadata": {},
     "output_type": "execute_result"
    }
   ],
   "source": [
    "n"
   ]
  },
  {
   "cell_type": "code",
   "execution_count": 34,
   "metadata": {},
   "outputs": [
    {
     "data": {
      "text/plain": [
       "array([-1.02529393, -0.1577239 ,  0.55386574,  0.81200314, -2.10273014,\n",
       "       -0.1577239 , -0.61306351, -1.22723615,  1.08547074, -0.46995086,\n",
       "       -1.46496584, -0.1577239 , -1.3431022 , -1.15635671,  0.32309035,\n",
       "        0.32309035,  0.50103954, -0.00413798,  0.19824509, -0.46995086])"
      ]
     },
     "execution_count": 34,
     "metadata": {},
     "output_type": "execute_result"
    }
   ],
   "source": [
    "n_sample = np.random.choice(n,20)\n",
    "n_sample"
   ]
  },
  {
   "cell_type": "code",
   "execution_count": 35,
   "metadata": {},
   "outputs": [
    {
     "data": {
      "text/plain": [
       "0.670549301813857"
      ]
     },
     "execution_count": 35,
     "metadata": {},
     "output_type": "execute_result"
    }
   ],
   "source": [
    "n_result=np.var(n)\n",
    "n_result"
   ]
  },
  {
   "cell_type": "code",
   "execution_count": 36,
   "metadata": {},
   "outputs": [
    {
     "data": {
      "text/plain": [
       "0.6827254616044951"
      ]
     },
     "execution_count": 36,
     "metadata": {},
     "output_type": "execute_result"
    }
   ],
   "source": [
    "n_result_Sample = np.var(n_sample)\n",
    "n_result_Sample"
   ]
  },
  {
   "cell_type": "code",
   "execution_count": 37,
   "metadata": {},
   "outputs": [
    {
     "data": {
      "text/plain": [
       "4.5798697155672725"
      ]
     },
     "execution_count": 37,
     "metadata": {},
     "output_type": "execute_result"
    }
   ],
   "source": [
    "df.std()"
   ]
  },
  {
   "cell_type": "code",
   "execution_count": 39,
   "metadata": {},
   "outputs": [
    {
     "name": "stdout",
     "output_type": "stream",
     "text": [
      "Hello World [-5.79609340e-01 -1.46496584e+00  5.01039543e-01 -6.13063507e-01\n",
      " -3.72737967e-01 -4.80878180e-01 -6.18802589e-01 -1.02529393e+00\n",
      " -5.20387682e-01  7.98402313e-01  5.53865744e-01 -4.69950864e-01\n",
      "  5.06070250e-01  1.98245085e-01 -3.92007423e-01 -2.10273014e+00\n",
      " -1.15635671e+00 -2.89387696e-01  8.12003138e-01  1.08547074e+00\n",
      "  2.17109924e-01  3.23090353e-01  1.59332005e+00 -4.13797592e-03\n",
      " -9.60750322e-01  1.14879261e-03 -1.22723615e+00 -1.34310220e+00\n",
      "  4.51167116e-01 -1.57723901e-01]\n"
     ]
    }
   ],
   "source": [
    "print(\"Hello World\",n)"
   ]
  },
  {
   "cell_type": "code",
   "execution_count": 40,
   "metadata": {},
   "outputs": [
    {
     "data": {
      "text/plain": [
       "-6.738189358653931"
      ]
     },
     "execution_count": 40,
     "metadata": {},
     "output_type": "execute_result"
    }
   ],
   "source": [
    "sum(n)"
   ]
  },
  {
   "cell_type": "code",
   "execution_count": 41,
   "metadata": {},
   "outputs": [
    {
     "data": {
      "text/plain": [
       "30"
      ]
     },
     "execution_count": 41,
     "metadata": {},
     "output_type": "execute_result"
    }
   ],
   "source": [
    "len(n)"
   ]
  },
  {
   "cell_type": "code",
   "execution_count": null,
   "metadata": {},
   "outputs": [],
   "source": []
  },
  {
   "cell_type": "code",
   "execution_count": 46,
   "metadata": {},
   "outputs": [
    {
     "data": {
      "text/plain": [
       "-0.22460631195513106"
      ]
     },
     "execution_count": 46,
     "metadata": {},
     "output_type": "execute_result"
    }
   ],
   "source": [
    "np.mean(n)"
   ]
  },
  {
   "cell_type": "code",
   "execution_count": 61,
   "metadata": {},
   "outputs": [
    {
     "data": {
      "text/plain": [
       "0.8188707479290349"
      ]
     },
     "execution_count": 61,
     "metadata": {},
     "output_type": "execute_result"
    }
   ],
   "source": [
    "np.std(n)"
   ]
  },
  {
   "cell_type": "markdown",
   "metadata": {},
   "source": [
    "## Add a link in jupyter notebook\n",
    "First Set this column as a Markdown.Then Write Name of your link in Third Bracket [ ] . Then paste your url link in First Bracket( ).\n",
    "\n",
    "ex.\n",
    "\n",
    "    [DataSet](https://www.kaggle.com/alexisbcook/titanic-tutorial)"
   ]
  },
  {
   "cell_type": "markdown",
   "metadata": {},
   "source": [
    "# Some Tecnique\n",
    "The variables `cost_of_ice_bag`, `profit_margin`, and `number_of_bags` now contain the information provided in the word problem. We can check the value of a variable by typing its name into a cell. We can combine variables using arithmetic operations to create other variables.\n",
    "\n",
    "> **Code completion**: While typing the name of an existing variable in a code cell within Jupyter, just type the first few characters and press the `Tab` key to autocomplete the variable's name. Try typing `pro` in a code cell below and press `Tab` to autocomplete to `profit_margin`."
   ]
  },
  {
   "cell_type": "markdown",
   "metadata": {},
   "source": [
    "| Operator  | Purpose          | Example    | Result |\n",
    "|-----------|------------------|------------|--------|\n",
    "| `+`       | Addition         | `2 + 3`    | `5`    |\n",
    "| `-`       | Substraction     | `3 - 2`    | `1`    |\n",
    "| `*`       | Multiplication   | `8 * 12`   | `96`   |\n",
    "| `/`       | Division         | `100 / 7`  | `14.28`|\n",
    "| `//`      | Floor Division   | `100 / 7`  | `14`   |\n",
    "| `%`       | Modilus/Reminder | `100 % 7`  | `2`    |\n",
    "| `**`      | Exponent         | `5 ** 3`   | `125`  |"
   ]
  },
  {
   "cell_type": "markdown",
   "metadata": {},
   "source": [
    "*hello* **world**"
   ]
  },
  {
   "cell_type": "code",
   "execution_count": 77,
   "metadata": {},
   "outputs": [
    {
     "ename": "ModuleNotFoundError",
     "evalue": "No module named 'dataframe'",
     "output_type": "error",
     "traceback": [
      "\u001b[1;31m---------------------------------------------------------------------------\u001b[0m",
      "\u001b[1;31mModuleNotFoundError\u001b[0m                       Traceback (most recent call last)",
      "\u001b[1;32m<ipython-input-77-51327372d068>\u001b[0m in \u001b[0;36m<module>\u001b[1;34m\u001b[0m\n\u001b[1;32m----> 1\u001b[1;33m \u001b[1;32mimport\u001b[0m \u001b[0mdataframe\u001b[0m \u001b[1;32mas\u001b[0m \u001b[0mdf\u001b[0m\u001b[1;33m\u001b[0m\u001b[1;33m\u001b[0m\u001b[0m\n\u001b[0m",
      "\u001b[1;31mModuleNotFoundError\u001b[0m: No module named 'dataframe'"
     ]
    }
   ],
   "source": []
  },
  {
   "cell_type": "code",
   "execution_count": 75,
   "metadata": {},
   "outputs": [
    {
     "data": {
      "text/plain": [
       "array([-5.79609340e-01, -1.46496584e+00,  5.01039543e-01, -6.13063507e-01,\n",
       "       -3.72737967e-01, -4.80878180e-01, -6.18802589e-01, -1.02529393e+00,\n",
       "       -5.20387682e-01,  7.98402313e-01,  5.53865744e-01, -4.69950864e-01,\n",
       "        5.06070250e-01,  1.98245085e-01, -3.92007423e-01, -2.10273014e+00,\n",
       "       -1.15635671e+00, -2.89387696e-01,  8.12003138e-01,  1.08547074e+00,\n",
       "        2.17109924e-01,  3.23090353e-01,  1.59332005e+00, -4.13797592e-03,\n",
       "       -9.60750322e-01,  1.14879261e-03, -1.22723615e+00, -1.34310220e+00,\n",
       "        4.51167116e-01, -1.57723901e-01])"
      ]
     },
     "execution_count": 75,
     "metadata": {},
     "output_type": "execute_result"
    }
   ],
   "source": [
    "n"
   ]
  },
  {
   "cell_type": "code",
   "execution_count": 76,
   "metadata": {},
   "outputs": [
    {
     "data": {
      "text/plain": [
       "[-0.579609340280897,\n",
       " -1.4649658414640767,\n",
       " 0.5010395432175452,\n",
       " -0.6130635074989873,\n",
       " -0.37273796716261054,\n",
       " -0.4808781798554428,\n",
       " -0.6188025892631532,\n",
       " -1.0252939252441857,\n",
       " -0.5203876815952352,\n",
       " 0.7984023134015421,\n",
       " 0.5538657438741817,\n",
       " -0.46995086421121307,\n",
       " 0.5060702502039544,\n",
       " 0.1982450854647243,\n",
       " -0.39200742299718144,\n",
       " -2.10273014020676,\n",
       " -1.1563567137845934,\n",
       " -0.28938769568069633,\n",
       " 0.8120031376215991,\n",
       " 1.0854707440212998,\n",
       " 0.21710992380186364,\n",
       " 0.323090353226439,\n",
       " 1.5933200497091757,\n",
       " -0.004137975916805172,\n",
       " -0.9607503215834284,\n",
       " 0.0011487926081497118,\n",
       " -1.2272361488735453,\n",
       " -1.3431021951038786,\n",
       " 0.4511671155499816,\n",
       " -0.15772390063169758]"
      ]
     },
     "execution_count": 76,
     "metadata": {},
     "output_type": "execute_result"
    }
   ],
   "source": [
    "list(n)"
   ]
  },
  {
   "cell_type": "code",
   "execution_count": 85,
   "metadata": {},
   "outputs": [
    {
     "data": {
      "text/plain": [
       "numpy.ndarray"
      ]
     },
     "execution_count": 85,
     "metadata": {},
     "output_type": "execute_result"
    }
   ],
   "source": [
    "type(n)"
   ]
  },
  {
   "cell_type": "code",
   "execution_count": 90,
   "metadata": {},
   "outputs": [],
   "source": [
    "df =pd.DataFrame(n)"
   ]
  },
  {
   "cell_type": "code",
   "execution_count": 95,
   "metadata": {},
   "outputs": [
    {
     "data": {
      "text/plain": [
       "array([-5.79609340e-01, -1.46496584e+00,  5.01039543e-01, -6.13063507e-01,\n",
       "       -3.72737967e-01, -4.80878180e-01, -6.18802589e-01, -1.02529393e+00,\n",
       "       -5.20387682e-01,  7.98402313e-01,  5.53865744e-01, -4.69950864e-01,\n",
       "        5.06070250e-01,  1.98245085e-01, -3.92007423e-01, -2.10273014e+00,\n",
       "       -1.15635671e+00, -2.89387696e-01,  8.12003138e-01,  1.08547074e+00,\n",
       "        2.17109924e-01,  3.23090353e-01,  1.59332005e+00, -4.13797592e-03,\n",
       "       -9.60750322e-01,  1.14879261e-03, -1.22723615e+00, -1.34310220e+00,\n",
       "        4.51167116e-01, -1.57723901e-01])"
      ]
     },
     "execution_count": 95,
     "metadata": {},
     "output_type": "execute_result"
    }
   ],
   "source": [
    "df.values.flatten()"
   ]
  },
  {
   "cell_type": "code",
   "execution_count": 99,
   "metadata": {},
   "outputs": [
    {
     "data": {
      "text/plain": [
       "18"
      ]
     },
     "execution_count": 99,
     "metadata": {},
     "output_type": "execute_result"
    }
   ],
   "source": [
    "count = (n < 0 ).sum().sum()\n",
    "count"
   ]
  },
  {
   "cell_type": "code",
   "execution_count": 84,
   "metadata": {},
   "outputs": [
    {
     "data": {
      "text/plain": [
       "[0.579609340280897,\n",
       " 1.4649658414640767,\n",
       " 0.5010395432175452,\n",
       " 0.6130635074989873,\n",
       " 0.37273796716261054,\n",
       " 0.4808781798554428,\n",
       " 0.6188025892631532,\n",
       " 1.0252939252441857,\n",
       " 0.5203876815952352,\n",
       " 0.7984023134015421,\n",
       " 0.5538657438741817,\n",
       " 0.46995086421121307,\n",
       " 0.5060702502039544,\n",
       " 0.1982450854647243,\n",
       " 0.39200742299718144,\n",
       " 2.10273014020676,\n",
       " 1.1563567137845934,\n",
       " 0.28938769568069633,\n",
       " 0.8120031376215991,\n",
       " 1.0854707440212998,\n",
       " 0.21710992380186364,\n",
       " 0.323090353226439,\n",
       " 1.5933200497091757,\n",
       " 0.004137975916805172,\n",
       " 0.9607503215834284,\n",
       " 0.0011487926081497118,\n",
       " 1.2272361488735453,\n",
       " 1.3431021951038786,\n",
       " 0.4511671155499816,\n",
       " 0.15772390063169758]"
      ]
     },
     "execution_count": 84,
     "metadata": {},
     "output_type": "execute_result"
    }
   ],
   "source": [
    "n1 = abs(n)\n",
    "list(n1)"
   ]
  },
  {
   "cell_type": "code",
   "execution_count": 71,
   "metadata": {},
   "outputs": [
    {
     "name": "stdout",
     "output_type": "stream",
     "text": [
      "-9\n",
      "Negetive Number\n"
     ]
    }
   ],
   "source": [
    "a = int(input())\n",
    "if(a > 0):\n",
    "    print(\"Positive Number\")\n",
    "else:\n",
    "    print(\"Negetive Number\")"
   ]
  },
  {
   "cell_type": "code",
   "execution_count": 73,
   "metadata": {},
   "outputs": [],
   "source": [
    "import math as mt"
   ]
  },
  {
   "cell_type": "code",
   "execution_count": 74,
   "metadata": {},
   "outputs": [
    {
     "data": {
      "text/plain": [
       "3.141592653589793"
      ]
     },
     "execution_count": 74,
     "metadata": {},
     "output_type": "execute_result"
    }
   ],
   "source": [
    "mt.pi"
   ]
  },
  {
   "cell_type": "code",
   "execution_count": 102,
   "metadata": {},
   "outputs": [],
   "source": [
    "today = \"Tuesday\""
   ]
  },
  {
   "cell_type": "code",
   "execution_count": 103,
   "metadata": {},
   "outputs": [
    {
     "data": {
      "text/plain": [
       "'T'"
      ]
     },
     "execution_count": 103,
     "metadata": {},
     "output_type": "execute_result"
    }
   ],
   "source": [
    "today[0]"
   ]
  },
  {
   "cell_type": "code",
   "execution_count": 104,
   "metadata": {},
   "outputs": [
    {
     "data": {
      "text/plain": [
       "1.0854707440212998"
      ]
     },
     "execution_count": 104,
     "metadata": {},
     "output_type": "execute_result"
    }
   ],
   "source": [
    "n[19]"
   ]
  },
  {
   "cell_type": "code",
   "execution_count": 105,
   "metadata": {},
   "outputs": [
    {
     "data": {
      "text/plain": [
       "array([ 0.55386574, -0.46995086,  0.50607025])"
      ]
     },
     "execution_count": 105,
     "metadata": {},
     "output_type": "execute_result"
    }
   ],
   "source": [
    "n[10 : 13]"
   ]
  },
  {
   "cell_type": "code",
   "execution_count": 106,
   "metadata": {},
   "outputs": [],
   "source": [
    "a = \"Hello\"\n",
    "b = \"World\""
   ]
  },
  {
   "cell_type": "code",
   "execution_count": 113,
   "metadata": {},
   "outputs": [
    {
     "data": {
      "text/plain": [
       "'hello WORLD!'"
      ]
     },
     "execution_count": 113,
     "metadata": {},
     "output_type": "execute_result"
    }
   ],
   "source": [
    "a.lower() +\" \"  + b.upper() + \"!\""
   ]
  },
  {
   "cell_type": "code",
   "execution_count": 115,
   "metadata": {},
   "outputs": [
    {
     "data": {
      "text/plain": [
       "'He rld'"
      ]
     },
     "execution_count": 115,
     "metadata": {},
     "output_type": "execute_result"
    }
   ],
   "source": [
    "a[0:2] + \" \" + b[2:5]"
   ]
  },
  {
   "cell_type": "code",
   "execution_count": 122,
   "metadata": {},
   "outputs": [
    {
     "name": "stdout",
     "output_type": "stream",
     "text": [
      "8\n",
      " I had got GPA = 8 in exam\n"
     ]
    }
   ],
   "source": [
    "p = \" I had got GPA = {} in exam.\"\n",
    "s = int(input())\n",
    "print(p.format(s))"
   ]
  },
  {
   "cell_type": "code",
   "execution_count": 126,
   "metadata": {},
   "outputs": [
    {
     "data": {
      "text/plain": [
       "[-0.579609340280897,\n",
       " -1.4649658414640767,\n",
       " 0.5010395432175452,\n",
       " -0.6130635074989873,\n",
       " -0.37273796716261054,\n",
       " -0.4808781798554428,\n",
       " -0.6188025892631532,\n",
       " -1.0252939252441857,\n",
       " -0.5203876815952352,\n",
       " 0.7984023134015421,\n",
       " 0.5538657438741817,\n",
       " -0.46995086421121307,\n",
       " 0.5060702502039544,\n",
       " 0.1982450854647243,\n",
       " -0.39200742299718144,\n",
       " -2.10273014020676,\n",
       " -1.1563567137845934,\n",
       " -0.28938769568069633,\n",
       " 0.8120031376215991,\n",
       " 1.0854707440212998,\n",
       " 0.21710992380186364,\n",
       " 0.323090353226439,\n",
       " 1.5933200497091757,\n",
       " -0.004137975916805172,\n",
       " -0.9607503215834284,\n",
       " 0.0011487926081497118,\n",
       " -1.2272361488735453,\n",
       " -1.3431021951038786,\n",
       " 0.4511671155499816,\n",
       " -0.15772390063169758]"
      ]
     },
     "execution_count": 126,
     "metadata": {},
     "output_type": "execute_result"
    }
   ],
   "source": [
    "list(n)"
   ]
  },
  {
   "cell_type": "code",
   "execution_count": 125,
   "metadata": {},
   "outputs": [
    {
     "data": {
      "text/plain": [
       "array([-0.57960934, -1.46496584,  0.50103954, -0.61306351, -0.37273797])"
      ]
     },
     "execution_count": 125,
     "metadata": {},
     "output_type": "execute_result"
    }
   ],
   "source": [
    "n[:5]"
   ]
  },
  {
   "cell_type": "code",
   "execution_count": 146,
   "metadata": {},
   "outputs": [],
   "source": [
    "def personal(Me):\n",
    "    \n",
    "    \"\"\"'Name': Me\n",
    "    'Age': 18\n",
    "    'Passed Study': ' HSC'\n",
    "    'Current Studying': 'BSc' \"\"\""
   ]
  },
  {
   "cell_type": "code",
   "execution_count": 147,
   "metadata": {},
   "outputs": [
    {
     "name": "stdout",
     "output_type": "stream",
     "text": [
      "None\n"
     ]
    }
   ],
   "source": [
    "print(personal('Shuvo'))"
   ]
  },
  {
   "cell_type": "code",
   "execution_count": 1,
   "metadata": {},
   "outputs": [],
   "source": [
    "def personal1(Me):\n",
    "    print(\"\")\n"
   ]
  },
  {
   "cell_type": "code",
   "execution_count": 2,
   "metadata": {},
   "outputs": [
    {
     "ename": "ModuleNotFoundError",
     "evalue": "No module named 'git'",
     "output_type": "error",
     "traceback": [
      "\u001b[1;31m---------------------------------------------------------------------------\u001b[0m",
      "\u001b[1;31mModuleNotFoundError\u001b[0m                       Traceback (most recent call last)",
      "\u001b[1;32m<ipython-input-2-99021728f681>\u001b[0m in \u001b[0;36m<module>\u001b[1;34m\u001b[0m\n\u001b[1;32m----> 1\u001b[1;33m \u001b[1;32mimport\u001b[0m \u001b[0mgit\u001b[0m\u001b[1;33m\u001b[0m\u001b[1;33m\u001b[0m\u001b[0m\n\u001b[0m",
      "\u001b[1;31mModuleNotFoundError\u001b[0m: No module named 'git'"
     ]
    }
   ],
   "source": [
    "import git"
   ]
  },
  {
   "cell_type": "code",
   "execution_count": null,
   "metadata": {},
   "outputs": [],
   "source": []
  }
 ],
 "metadata": {
  "kernelspec": {
   "display_name": "Python 3",
   "language": "python",
   "name": "python3"
  },
  "language_info": {
   "codemirror_mode": {
    "name": "ipython",
    "version": 3
   },
   "file_extension": ".py",
   "mimetype": "text/x-python",
   "name": "python",
   "nbconvert_exporter": "python",
   "pygments_lexer": "ipython3",
   "version": "3.8.8"
  }
 },
 "nbformat": 4,
 "nbformat_minor": 4
}
